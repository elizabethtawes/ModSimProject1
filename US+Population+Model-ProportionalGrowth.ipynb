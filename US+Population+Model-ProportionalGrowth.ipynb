{
 "cells": [
  {
   "cell_type": "code",
   "execution_count": 3,
   "metadata": {
    "collapsed": true
   },
   "outputs": [],
   "source": [
    "%matplotlib inline\n",
    "from modsim import *"
   ]
  },
  {
   "cell_type": "code",
   "execution_count": 4,
   "metadata": {
    "collapsed": true
   },
   "outputs": [],
   "source": [
    "from pandas import read_html"
   ]
  },
  {
   "cell_type": "markdown",
   "metadata": {},
   "source": [
    "Import US History.com Data"
   ]
  },
  {
   "cell_type": "code",
   "execution_count": 5,
   "metadata": {
    "collapsed": true
   },
   "outputs": [],
   "source": [
    "filename = 'http://www.u-s-history.com/pages/h980.html' \n",
    "tables = read_html (filename, \n",
    "                    header = 0, \n",
    "                    index_col = 0,\n",
    "                    decimal = 'M')"
   ]
  },
  {
   "cell_type": "code",
   "execution_count": 6,
   "metadata": {
    "collapsed": true
   },
   "outputs": [],
   "source": [
    "table1a = tables[2]"
   ]
  },
  {
   "cell_type": "code",
   "execution_count": 7,
   "metadata": {},
   "outputs": [
    {
     "data": {
      "text/html": [
       "<div>\n",
       "<style>\n",
       "    .dataframe thead tr:only-child th {\n",
       "        text-align: right;\n",
       "    }\n",
       "\n",
       "    .dataframe thead th {\n",
       "        text-align: left;\n",
       "    }\n",
       "\n",
       "    .dataframe tbody tr th {\n",
       "        vertical-align: top;\n",
       "    }\n",
       "</style>\n",
       "<table border=\"1\" class=\"dataframe\">\n",
       "  <thead>\n",
       "    <tr style=\"text-align: right;\">\n",
       "      <th></th>\n",
       "      <th>pop1ushis</th>\n",
       "      <th>increase</th>\n",
       "      <th>incp</th>\n",
       "      <th>urban</th>\n",
       "      <th>rural</th>\n",
       "    </tr>\n",
       "    <tr>\n",
       "      <th>Census Year</th>\n",
       "      <th></th>\n",
       "      <th></th>\n",
       "      <th></th>\n",
       "      <th></th>\n",
       "      <th></th>\n",
       "    </tr>\n",
       "  </thead>\n",
       "  <tbody>\n",
       "    <tr>\n",
       "      <th>1790</th>\n",
       "      <td>3929214</td>\n",
       "      <td>-</td>\n",
       "      <td>-</td>\n",
       "      <td>5.1</td>\n",
       "      <td>94.9</td>\n",
       "    </tr>\n",
       "    <tr>\n",
       "      <th>1800</th>\n",
       "      <td>5308483</td>\n",
       "      <td>1379269</td>\n",
       "      <td>35.1</td>\n",
       "      <td>6.1</td>\n",
       "      <td>93.9</td>\n",
       "    </tr>\n",
       "    <tr>\n",
       "      <th>1810</th>\n",
       "      <td>7239881</td>\n",
       "      <td>1931398</td>\n",
       "      <td>36.4</td>\n",
       "      <td>15.4</td>\n",
       "      <td>92.7</td>\n",
       "    </tr>\n",
       "    <tr>\n",
       "      <th>1820</th>\n",
       "      <td>9638453</td>\n",
       "      <td>2398572</td>\n",
       "      <td>33.1</td>\n",
       "      <td>7.2</td>\n",
       "      <td>92.8</td>\n",
       "    </tr>\n",
       "    <tr>\n",
       "      <th>1830</th>\n",
       "      <td>12860702</td>\n",
       "      <td>3222249</td>\n",
       "      <td>33.4</td>\n",
       "      <td>8.8</td>\n",
       "      <td>91.2</td>\n",
       "    </tr>\n",
       "  </tbody>\n",
       "</table>\n",
       "</div>"
      ],
      "text/plain": [
       "             pop1ushis increase  incp  urban  rural\n",
       "Census Year                                        \n",
       "1790           3929214        -     -    5.1   94.9\n",
       "1800           5308483  1379269  35.1    6.1   93.9\n",
       "1810           7239881  1931398  36.4   15.4   92.7\n",
       "1820           9638453  2398572  33.1    7.2   92.8\n",
       "1830          12860702  3222249  33.4    8.8   91.2"
      ]
     },
     "execution_count": 7,
     "metadata": {},
     "output_type": "execute_result"
    }
   ],
   "source": [
    "table1a.columns = [ 'pop1ushis', 'increase', 'incp', 'urban', 'rural',]\n",
    "\n",
    "table1a.head()"
   ]
  },
  {
   "cell_type": "code",
   "execution_count": 8,
   "metadata": {},
   "outputs": [
    {
     "data": {
      "text/html": [
       "<div>\n",
       "<style>\n",
       "    .dataframe thead tr:only-child th {\n",
       "        text-align: right;\n",
       "    }\n",
       "\n",
       "    .dataframe thead th {\n",
       "        text-align: left;\n",
       "    }\n",
       "\n",
       "    .dataframe tbody tr th {\n",
       "        vertical-align: top;\n",
       "    }\n",
       "</style>\n",
       "<table border=\"1\" class=\"dataframe\">\n",
       "  <thead>\n",
       "    <tr style=\"text-align: right;\">\n",
       "      <th></th>\n",
       "      <th>pop1ushis</th>\n",
       "      <th>increase</th>\n",
       "      <th>incp</th>\n",
       "      <th>urban</th>\n",
       "      <th>rural</th>\n",
       "    </tr>\n",
       "    <tr>\n",
       "      <th>Census Year</th>\n",
       "      <th></th>\n",
       "      <th></th>\n",
       "      <th></th>\n",
       "      <th></th>\n",
       "      <th></th>\n",
       "    </tr>\n",
       "  </thead>\n",
       "  <tbody>\n",
       "    <tr>\n",
       "      <th>1960</th>\n",
       "      <td>189323175</td>\n",
       "      <td>27997377</td>\n",
       "      <td>18.5</td>\n",
       "      <td>69.9</td>\n",
       "      <td>30.1</td>\n",
       "    </tr>\n",
       "    <tr>\n",
       "      <th>1970</th>\n",
       "      <td>213302031</td>\n",
       "      <td>23978856</td>\n",
       "      <td>13.4</td>\n",
       "      <td>73.6</td>\n",
       "      <td>26.3</td>\n",
       "    </tr>\n",
       "    <tr>\n",
       "      <th>1980</th>\n",
       "      <td>236542199</td>\n",
       "      <td>23240168</td>\n",
       "      <td>11.4</td>\n",
       "      <td>73.7</td>\n",
       "      <td>26.3</td>\n",
       "    </tr>\n",
       "    <tr>\n",
       "      <th>1990</th>\n",
       "      <td>258709873</td>\n",
       "      <td>22167674</td>\n",
       "      <td>9.8</td>\n",
       "      <td>75.2</td>\n",
       "      <td>24.8</td>\n",
       "    </tr>\n",
       "    <tr>\n",
       "      <th>2000</th>\n",
       "      <td>291421906</td>\n",
       "      <td>32712033</td>\n",
       "      <td>13.2</td>\n",
       "      <td>81.0</td>\n",
       "      <td>19.0</td>\n",
       "    </tr>\n",
       "  </tbody>\n",
       "</table>\n",
       "</div>"
      ],
      "text/plain": [
       "             pop1ushis  increase  incp  urban  rural\n",
       "Census Year                                         \n",
       "1960         189323175  27997377  18.5   69.9   30.1\n",
       "1970         213302031  23978856  13.4   73.6   26.3\n",
       "1980         236542199  23240168  11.4   73.7   26.3\n",
       "1990         258709873  22167674   9.8   75.2   24.8\n",
       "2000         291421906  32712033  13.2   81.0   19.0"
      ]
     },
     "execution_count": 8,
     "metadata": {},
     "output_type": "execute_result"
    }
   ],
   "source": [
    "table1a.tail()"
   ]
  },
  {
   "cell_type": "code",
   "execution_count": 9,
   "metadata": {
    "collapsed": true
   },
   "outputs": [],
   "source": [
    "pop1ushis = table1a.pop1ushis / 1e6"
   ]
  },
  {
   "cell_type": "code",
   "execution_count": 10,
   "metadata": {},
   "outputs": [
    {
     "data": {
      "text/plain": [
       "array([   3.929214,    5.308483,    7.239881,    9.638453,   12.860702,\n",
       "         17.063353,   23.191876,   31.443321,   38.558371,   50.189209,\n",
       "         62.979766,   76.212168,   92.228496,  106.021537,  123.202624,\n",
       "        142.164569,  161.325798,  189.323175,  213.302031,  236.542199,\n",
       "        258.709873,  291.421906])"
      ]
     },
     "execution_count": 10,
     "metadata": {},
     "output_type": "execute_result"
    }
   ],
   "source": [
    "pop1ushis.values"
   ]
  },
  {
   "cell_type": "code",
   "execution_count": 11,
   "metadata": {},
   "outputs": [
    {
     "data": {
      "text/plain": [
       "Int64Index([1790, 1800, 1810, 1820, 1830, 1840, 1850, 1860, 1870, 1880, 1890,\n",
       "            1900, 1910, 1920, 1930, 1940, 1950, 1960, 1970, 1980, 1990, 2000],\n",
       "           dtype='int64', name='Census Year')"
      ]
     },
     "execution_count": 11,
     "metadata": {},
     "output_type": "execute_result"
    }
   ],
   "source": [
    "pop1ushis.index"
   ]
  },
  {
   "cell_type": "code",
   "execution_count": 12,
   "metadata": {
    "collapsed": true
   },
   "outputs": [],
   "source": [
    "first_year1 = pop1ushis.index[0]\n",
    "last_year1 = pop1ushis.index[-1]"
   ]
  },
  {
   "cell_type": "code",
   "execution_count": 13,
   "metadata": {},
   "outputs": [
    {
     "name": "stdout",
     "output_type": "stream",
     "text": [
      "Saving figure to file chap03-fig01.pdf\n"
     ]
    },
    {
     "data": {
      "image/png": "[encoded data removed]",
      "text/plain": [
       "<matplotlib.figure.Figure at 0x1d1303957f0>"
      ]
     },
     "metadata": {},
     "output_type": "display_data"
    }
   ],
   "source": [
    "def plot_estimates(table):\n",
    "    \"\"\"Plot world population estimates.\n",
    "    \n",
    "    table: DataFrame with columns 'un' and 'census'\n",
    "    \"\"\"\n",
    "    pop1ushis = table1a.pop1ushis / 1e6\n",
    "   \n",
    "    plot(pop1ushis, ':', color='darkblue', label='US History Census')\n",
    "    \n",
    "    decorate(xlabel='Year',\n",
    "             ylabel='World population (million)')\n",
    "    \n",
    "newfig()\n",
    "plot_estimates(table1a)\n",
    "savefig('chap03-fig01.pdf')"
   ]
  },
  {
   "cell_type": "markdown",
   "metadata": {},
   "source": [
    "Insert Wikipedia.org Data"
   ]
  },
  {
   "cell_type": "code",
   "execution_count": 14,
   "metadata": {
    "collapsed": true
   },
   "outputs": [],
   "source": [
    "filename = 'https://en.wikipedia.org/wiki/Demographic_history_of_the_United_States' \n",
    "tables = read_html (filename, \n",
    "                    header = 0, \n",
    "                    index_col = 0, \n",
    "                    decimal = 'M')"
   ]
  },
  {
   "cell_type": "code",
   "execution_count": 15,
   "metadata": {
    "collapsed": true
   },
   "outputs": [],
   "source": [
    "table1b = tables[3]"
   ]
  },
  {
   "cell_type": "code",
   "execution_count": 16,
   "metadata": {},
   "outputs": [
    {
     "data": {
      "text/html": [
       "<div>\n",
       "<style>\n",
       "    .dataframe thead tr:only-child th {\n",
       "        text-align: right;\n",
       "    }\n",
       "\n",
       "    .dataframe thead th {\n",
       "        text-align: left;\n",
       "    }\n",
       "\n",
       "    .dataframe tbody tr th {\n",
       "        vertical-align: top;\n",
       "    }\n",
       "</style>\n",
       "<table border=\"1\" class=\"dataframe\">\n",
       "  <thead>\n",
       "    <tr style=\"text-align: right;\">\n",
       "      <th></th>\n",
       "      <th>pop2wiki</th>\n",
       "    </tr>\n",
       "    <tr>\n",
       "      <th>Census year</th>\n",
       "      <th></th>\n",
       "    </tr>\n",
       "  </thead>\n",
       "  <tbody>\n",
       "    <tr>\n",
       "      <th>NaN</th>\n",
       "      <td>NaN</td>\n",
       "    </tr>\n",
       "    <tr>\n",
       "      <th>1610.0</th>\n",
       "      <td>350.0</td>\n",
       "    </tr>\n",
       "    <tr>\n",
       "      <th>1620.0</th>\n",
       "      <td>2302.0</td>\n",
       "    </tr>\n",
       "    <tr>\n",
       "      <th>1630.0</th>\n",
       "      <td>4646.0</td>\n",
       "    </tr>\n",
       "    <tr>\n",
       "      <th>1640.0</th>\n",
       "      <td>26634.0</td>\n",
       "    </tr>\n",
       "    <tr>\n",
       "      <th>1650.0</th>\n",
       "      <td>50368.0</td>\n",
       "    </tr>\n",
       "    <tr>\n",
       "      <th>1660.0</th>\n",
       "      <td>75058.0</td>\n",
       "    </tr>\n",
       "    <tr>\n",
       "      <th>1670.0</th>\n",
       "      <td>111935.0</td>\n",
       "    </tr>\n",
       "    <tr>\n",
       "      <th>1680.0</th>\n",
       "      <td>151507.0</td>\n",
       "    </tr>\n",
       "    <tr>\n",
       "      <th>1690.0</th>\n",
       "      <td>210372.0</td>\n",
       "    </tr>\n",
       "    <tr>\n",
       "      <th>1700.0</th>\n",
       "      <td>250888.0</td>\n",
       "    </tr>\n",
       "    <tr>\n",
       "      <th>1710.0</th>\n",
       "      <td>331711.0</td>\n",
       "    </tr>\n",
       "    <tr>\n",
       "      <th>1720.0</th>\n",
       "      <td>466185.0</td>\n",
       "    </tr>\n",
       "    <tr>\n",
       "      <th>1730.0</th>\n",
       "      <td>629445.0</td>\n",
       "    </tr>\n",
       "    <tr>\n",
       "      <th>1740.0</th>\n",
       "      <td>905563.0</td>\n",
       "    </tr>\n",
       "    <tr>\n",
       "      <th>1750.0</th>\n",
       "      <td>1170760.0</td>\n",
       "    </tr>\n",
       "    <tr>\n",
       "      <th>1760.0</th>\n",
       "      <td>1593625.0</td>\n",
       "    </tr>\n",
       "    <tr>\n",
       "      <th>1770.0</th>\n",
       "      <td>2148076.0</td>\n",
       "    </tr>\n",
       "    <tr>\n",
       "      <th>1780.0</th>\n",
       "      <td>2780369.0</td>\n",
       "    </tr>\n",
       "    <tr>\n",
       "      <th>1790.0</th>\n",
       "      <td>3929214.0</td>\n",
       "    </tr>\n",
       "    <tr>\n",
       "      <th>1800.0</th>\n",
       "      <td>5308483.0</td>\n",
       "    </tr>\n",
       "    <tr>\n",
       "      <th>1810.0</th>\n",
       "      <td>7239881.0</td>\n",
       "    </tr>\n",
       "    <tr>\n",
       "      <th>1820.0</th>\n",
       "      <td>9638453.0</td>\n",
       "    </tr>\n",
       "    <tr>\n",
       "      <th>1830.0</th>\n",
       "      <td>12866020.0</td>\n",
       "    </tr>\n",
       "    <tr>\n",
       "      <th>1840.0</th>\n",
       "      <td>17069453.0</td>\n",
       "    </tr>\n",
       "    <tr>\n",
       "      <th>1850.0</th>\n",
       "      <td>23191876.0</td>\n",
       "    </tr>\n",
       "    <tr>\n",
       "      <th>1860.0</th>\n",
       "      <td>31443321.0</td>\n",
       "    </tr>\n",
       "    <tr>\n",
       "      <th>1870.0</th>\n",
       "      <td>38558371.0</td>\n",
       "    </tr>\n",
       "    <tr>\n",
       "      <th>1880.0</th>\n",
       "      <td>50189209.0</td>\n",
       "    </tr>\n",
       "    <tr>\n",
       "      <th>1890.0</th>\n",
       "      <td>62979766.0</td>\n",
       "    </tr>\n",
       "    <tr>\n",
       "      <th>1900.0</th>\n",
       "      <td>76212168.0</td>\n",
       "    </tr>\n",
       "    <tr>\n",
       "      <th>1910.0</th>\n",
       "      <td>92228496.0</td>\n",
       "    </tr>\n",
       "    <tr>\n",
       "      <th>1920.0</th>\n",
       "      <td>106021537.0</td>\n",
       "    </tr>\n",
       "    <tr>\n",
       "      <th>1930.0</th>\n",
       "      <td>123202624.0</td>\n",
       "    </tr>\n",
       "    <tr>\n",
       "      <th>1940.0</th>\n",
       "      <td>132164569.0</td>\n",
       "    </tr>\n",
       "    <tr>\n",
       "      <th>1950.0</th>\n",
       "      <td>151325798.0</td>\n",
       "    </tr>\n",
       "    <tr>\n",
       "      <th>1960.0</th>\n",
       "      <td>179323175.0</td>\n",
       "    </tr>\n",
       "    <tr>\n",
       "      <th>1970.0</th>\n",
       "      <td>203211926.0</td>\n",
       "    </tr>\n",
       "    <tr>\n",
       "      <th>1980.0</th>\n",
       "      <td>226545805.0</td>\n",
       "    </tr>\n",
       "    <tr>\n",
       "      <th>1990.0</th>\n",
       "      <td>248709873.0</td>\n",
       "    </tr>\n",
       "    <tr>\n",
       "      <th>2000.0</th>\n",
       "      <td>281421906.0</td>\n",
       "    </tr>\n",
       "    <tr>\n",
       "      <th>2010.0</th>\n",
       "      <td>308745538.0</td>\n",
       "    </tr>\n",
       "  </tbody>\n",
       "</table>\n",
       "</div>"
      ],
      "text/plain": [
       "                pop2wiki\n",
       "Census year             \n",
       "NaN                  NaN\n",
       " 1610.0            350.0\n",
       " 1620.0           2302.0\n",
       " 1630.0           4646.0\n",
       " 1640.0          26634.0\n",
       " 1650.0          50368.0\n",
       " 1660.0          75058.0\n",
       " 1670.0         111935.0\n",
       " 1680.0         151507.0\n",
       " 1690.0         210372.0\n",
       " 1700.0         250888.0\n",
       " 1710.0         331711.0\n",
       " 1720.0         466185.0\n",
       " 1730.0         629445.0\n",
       " 1740.0         905563.0\n",
       " 1750.0        1170760.0\n",
       " 1760.0        1593625.0\n",
       " 1770.0        2148076.0\n",
       " 1780.0        2780369.0\n",
       " 1790.0        3929214.0\n",
       " 1800.0        5308483.0\n",
       " 1810.0        7239881.0\n",
       " 1820.0        9638453.0\n",
       " 1830.0       12866020.0\n",
       " 1840.0       17069453.0\n",
       " 1850.0       23191876.0\n",
       " 1860.0       31443321.0\n",
       " 1870.0       38558371.0\n",
       " 1880.0       50189209.0\n",
       " 1890.0       62979766.0\n",
       " 1900.0       76212168.0\n",
       " 1910.0       92228496.0\n",
       " 1920.0      106021537.0\n",
       " 1930.0      123202624.0\n",
       " 1940.0      132164569.0\n",
       " 1950.0      151325798.0\n",
       " 1960.0      179323175.0\n",
       " 1970.0      203211926.0\n",
       " 1980.0      226545805.0\n",
       " 1990.0      248709873.0\n",
       " 2000.0      281421906.0\n",
       " 2010.0      308745538.0"
      ]
     },
     "execution_count": 16,
     "metadata": {},
     "output_type": "execute_result"
    }
   ],
   "source": [
    "table1b.columns = ['pop2wiki']\n",
    "table1b"
   ]
  },
  {
   "cell_type": "code",
   "execution_count": 17,
   "metadata": {
    "collapsed": true
   },
   "outputs": [],
   "source": [
    "pop2wiki = table1b.pop2wiki / 1e6"
   ]
  },
  {
   "cell_type": "code",
   "execution_count": 18,
   "metadata": {
    "collapsed": true
   },
   "outputs": [],
   "source": [
    "first_year2 = pop2wiki.index[1]\n",
    "last_year2 = pop2wiki.index[-1]"
   ]
  },
  {
   "cell_type": "code",
   "execution_count": 19,
   "metadata": {
    "collapsed": true
   },
   "outputs": [],
   "source": [
    "def plot_estimates():\n",
    "    pop1ushis = table1a.pop1ushis / 1e6\n",
    "    pop2wiki = table1b.pop2wiki / 1e6\n",
    "    \n",
    "    plot(pop1ushis, ':', color='darkblue', label = 'US History')\n",
    "    plot(pop2wiki, '--', color='green', label = 'Wikipedia')\n",
    "    \n",
    "    decorate(xlabel='Year',\n",
    "             ylabel='US population (billion)')"
   ]
  },
  {
   "cell_type": "code",
   "execution_count": 20,
   "metadata": {},
   "outputs": [
    {
     "data": {
      "image/png": "[encoded data removed]",
      "text/plain": [
       "<matplotlib.figure.Figure at 0x1d130c92e48>"
      ]
     },
     "metadata": {},
     "output_type": "display_data"
    }
   ],
   "source": [
    "plot_estimates()"
   ]
  },
  {
   "cell_type": "markdown",
   "metadata": {},
   "source": [
    "PROPORTIONAL GROWTH MODEL"
   ]
  },
  {
   "cell_type": "markdown",
   "metadata": {},
   "source": [
    "US History.com Data"
   ]
  },
  {
   "cell_type": "code",
   "execution_count": 21,
   "metadata": {
    "collapsed": true
   },
   "outputs": [],
   "source": [
    "results1 = TimeSeries()\n",
    "\n",
    "def run_simulation_our_estimation1(system1):\n",
    "    results1 = TimeSeries()\n",
    "    results1[system1.t01] = system1.p01\n",
    "    for t in linrange(system1.t01, system1.t_end1):\n",
    "        births1 = system1.birth_rate1 * results1[t]\n",
    "        deaths1 = system1.death_rate1 * results1[t]\n",
    "        results1[t+1] = results1[t] + births1 - deaths1\n",
    "    system1.results1 = results1"
   ]
  },
  {
   "cell_type": "code",
   "execution_count": 22,
   "metadata": {
    "collapsed": true
   },
   "outputs": [],
   "source": [
    "t01 = pop1ushis.index[0]\n",
    "t_end1 = pop1ushis.index[-1]\n",
    "p01=pop1ushis[first_year1]"
   ]
  },
  {
   "cell_type": "code",
   "execution_count": 23,
   "metadata": {
    "collapsed": true
   },
   "outputs": [],
   "source": [
    "system1 = System(t01 = t01,\n",
    "                t_end1 = t_end1,\n",
    "                p01 = p01,\n",
    "                pop1ushis = pop1ushis)"
   ]
  },
  {
   "cell_type": "code",
   "execution_count": 24,
   "metadata": {
    "collapsed": true
   },
   "outputs": [],
   "source": [
    "system1.death_rate1 = 0.01\n",
    "system1.birth_rate1 = 0.027"
   ]
  },
  {
   "cell_type": "code",
   "execution_count": 26,
   "metadata": {},
   "outputs": [
    {
     "data": {
      "text/html": [
       "<div>\n",
       "<style>\n",
       "    .dataframe thead tr:only-child th {\n",
       "        text-align: right;\n",
       "    }\n",
       "\n",
       "    .dataframe thead th {\n",
       "        text-align: left;\n",
       "    }\n",
       "\n",
       "    .dataframe tbody tr th {\n",
       "        vertical-align: top;\n",
       "    }\n",
       "</style>\n",
       "<table border=\"1\" class=\"dataframe\">\n",
       "  <thead>\n",
       "    <tr style=\"text-align: right;\">\n",
       "      <th></th>\n",
       "      <th>value</th>\n",
       "    </tr>\n",
       "  </thead>\n",
       "  <tbody>\n",
       "  </tbody>\n",
       "</table>\n",
       "</div>"
      ],
      "text/plain": [
       "Series([], dtype: float64)"
      ]
     },
     "execution_count": 26,
     "metadata": {},
     "output_type": "execute_result"
    }
   ],
   "source": [
    "run_simulation_our_estimation1(system1)\n",
    "results1"
   ]
  },
  {
   "cell_type": "code",
   "execution_count": 27,
   "metadata": {
    "collapsed": true
   },
   "outputs": [],
   "source": [
    "def update_func1(pop1ushis, t, system1):\n",
    "    births1 = system1.birth_rate1 * ushis\n",
    "    deaths1 = system1.death_rate1 * ushis\n",
    "    return ushis + births1 - deaths1\n"
   ]
  },
  {
   "cell_type": "code",
   "execution_count": 28,
   "metadata": {
    "collapsed": true
   },
   "outputs": [],
   "source": [
    "def run_simulation1(system1, update_func1):\n",
    "    results1 = TimeSeries()\n",
    "    results1[system1.t01] = system1.p01\n",
    "    for t in linrange(system1.t01, system1.t_end1):\n",
    "        results1[t+1] = update_func1(results1[t], t, system1)\n",
    "    system1.results1 = results1"
   ]
  },
  {
   "cell_type": "code",
   "execution_count": 29,
   "metadata": {
    "collapsed": true
   },
   "outputs": [],
   "source": [
    "run_simulation1(system1,update_func1)"
   ]
  },
  {
   "cell_type": "code",
   "execution_count": 30,
   "metadata": {
    "collapsed": true
   },
   "outputs": [],
   "source": [
    "system1.alpha1 = system1.birth_rate1 - system1.death_rate1"
   ]
  },
  {
   "cell_type": "code",
   "execution_count": 31,
   "metadata": {
    "collapsed": true
   },
   "outputs": [],
   "source": [
    "def update_func1b(ushis, t, system1):\n",
    "    net_growth1 = system1.alpha1 * ushis\n",
    "    return ushis + net_growth1"
   ]
  },
  {
   "cell_type": "code",
   "execution_count": 32,
   "metadata": {
    "collapsed": true
   },
   "outputs": [],
   "source": [
    "run_simulation1(system1, update_func1b)"
   ]
  },
  {
   "cell_type": "markdown",
   "metadata": {},
   "source": [
    "Wikipedia.org Data"
   ]
  },
  {
   "cell_type": "code",
   "execution_count": 42,
   "metadata": {
    "collapsed": true
   },
   "outputs": [],
   "source": [
    "def run_simulation_our_estimation2(system2):\n",
    "    results2 = TimeSeries()\n",
    "    results2[system2.t02] = system2.p02\n",
    "    for t in linrange(system2.t02, system2.t_end2):\n",
    "        births2 = system2.birth_rate2 * results2[t]\n",
    "        deaths2 = system2.death_rate2 * results2[t]\n",
    "        results2[t+1] = results2[t] + births2 - deaths2\n",
    "    system2.results2 = results2"
   ]
  },
  {
   "cell_type": "code",
   "execution_count": 50,
   "metadata": {
    "collapsed": true
   },
   "outputs": [],
   "source": [
    "t02 = pop2wiki.index[1]\n",
    "t_end2 = pop2wiki.index[-1]\n",
    "p02=pop2wiki[first_year2]"
   ]
  },
  {
   "cell_type": "code",
   "execution_count": 51,
   "metadata": {},
   "outputs": [],
   "source": [
    "system2 = System(t02 = t02,\n",
    "                t_end2 = t_end2,\n",
    "                p02 = p02,\n",
    "                pop2wiki = pop2wiki)"
   ]
  },
  {
   "cell_type": "code",
   "execution_count": 153,
   "metadata": {
    "collapsed": true
   },
   "outputs": [],
   "source": [
    "system2.death_rate2 = 0.01\n",
    "system2.birth_rate2 = 0.05"
   ]
  },
  {
   "cell_type": "code",
   "execution_count": 154,
   "metadata": {
    "collapsed": true
   },
   "outputs": [],
   "source": [
    "def update_func2(pop2wiki, t, system2):\n",
    "    births2 = system2.birth_rate2 * pop2wiki\n",
    "    deaths2 = system2.death_rate2 * pop2wiki\n",
    "    return pop2wiki + births2 - deaths2"
   ]
  },
  {
   "cell_type": "code",
   "execution_count": 155,
   "metadata": {},
   "outputs": [],
   "source": [
    "def run_simulation2(system2, update_func2):\n",
    "    results2 = TimeSeries()\n",
    "    results2[system2.t02] = system2.p02\n",
    "    for t in linrange(system2.t02, system2.t_end2):\n",
    "        results2[t+1] = update_func2(results2[t], t, system2)\n",
    "    system2.results2 = results2\n",
    "    plot(results2, 'o', color='r', label='model')"
   ]
  },
  {
   "cell_type": "code",
   "execution_count": 156,
   "metadata": {},
   "outputs": [
    {
     "data": {
      "image/png": "[encoded data removed]",
      "text/plain": [
       "<matplotlib.figure.Figure at 0x1d13298a8d0>"
      ]
     },
     "metadata": {},
     "output_type": "display_data"
    }
   ],
   "source": [
    "run_simulation2(system2,update_func2)"
   ]
  },
  {
   "cell_type": "code",
   "execution_count": 157,
   "metadata": {
    "collapsed": true
   },
   "outputs": [],
   "source": [
    "system2.alpha2 = system2.birth_rate2 - system2.death_rate2"
   ]
  },
  {
   "cell_type": "code",
   "execution_count": 158,
   "metadata": {
    "collapsed": true
   },
   "outputs": [],
   "source": [
    "def update_func2b(pop2wiki, t, system2):\n",
    "    net_growth2 = system2.alpha2 * pop2wiki\n",
    "    return pop2wiki + net_growth2"
   ]
  },
  {
   "cell_type": "code",
   "execution_count": 159,
   "metadata": {},
   "outputs": [
    {
     "data": {
      "image/png": "[encoded data removed]",
      "text/plain": [
       "<matplotlib.figure.Figure at 0x1d1329d9198>"
      ]
     },
     "metadata": {},
     "output_type": "display_data"
    }
   ],
   "source": [
    "run_simulation2(system2, update_func2b)\n",
    "plot(pop1ushis, ':', color='darkblue', label = 'US History')\n",
    "plot(pop2wiki, '--', color='green', label = 'Wikipedia')"
   ]
  },
  {
   "cell_type": "markdown",
   "metadata": {},
   "source": [
    "END OF PROPORTIONAL GROWTH MODEL"
   ]
  }
 ],
 "metadata": {
  "kernelspec": {
   "display_name": "Python 3",
   "language": "python",
   "name": "python3"
  },
  "language_info": {
   "codemirror_mode": {
    "name": "ipython",
    "version": 3
   },
   "file_extension": ".py",
   "mimetype": "text/x-python",
   "name": "python",
   "nbconvert_exporter": "python",
   "pygments_lexer": "ipython3",
   "version": "3.6.1"
  }
 },
 "nbformat": 4,
 "nbformat_minor": 2
}
